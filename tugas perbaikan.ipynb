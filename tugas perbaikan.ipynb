{
 "cells": [
  {
   "cell_type": "code",
   "execution_count": 2,
   "metadata": {},
   "outputs": [
    {
     "name": "stdout",
     "output_type": "stream",
     "text": [
      "masukan email ; randiansyah_ti22@nusaputra.com\n",
      "True\n"
     ]
    }
   ],
   "source": [
    "#1\n",
    "email = input(\"masukan email ; \")\n",
    "post_at = 0\n",
    "post_titik = 0\n",
    "post_at = email.find('@')\n",
    "post_titik = email.find('.')\n",
    "print(post_at < post_titik )"
   ]
  },
  {
   "cell_type": "code",
   "execution_count": 1,
   "metadata": {},
   "outputs": [
    {
     "name": "stdout",
     "output_type": "stream",
     "text": [
      "masukin kalimat: belajar pemrograman python sangat menyenangkan\n",
      "b3l4j4r p3mrogr4m4n python s4ng4t m3ny3n4ngk4n\n"
     ]
    }
   ],
   "source": [
    "#2\n",
    "kalimat = input(\"masukin kalimat: \")\n",
    "i = 0\n",
    "kata = ''\n",
    "for i in range (len(kalimat)):\n",
    "    if kalimat[i] == \"a\" or kalimat [i] == \"A\":\n",
    "        kata = kata + \"4\"\n",
    "    elif kalimat[i] == \"e\" or kalimat [i] == \"E\":\n",
    "        kata = kata + \"3\"\n",
    "    elif kalimat[i] == \"L\" :\n",
    "        kata = kata + \"7\"\n",
    "    elif kalimat[i] ==\"S\" :\n",
    "        kata = kata + \"5\"\n",
    "    else:\n",
    "        kata = kata + kalimat[i]\n",
    "print(kata)\n",
    "    "
   ]
  }
 ],
 "metadata": {
  "kernelspec": {
   "display_name": "Python 3",
   "language": "python",
   "name": "python3"
  },
  "language_info": {
   "codemirror_mode": {
    "name": "ipython",
    "version": 3
   },
   "file_extension": ".py",
   "mimetype": "text/x-python",
   "name": "python",
   "nbconvert_exporter": "python",
   "pygments_lexer": "ipython3",
   "version": "3.8.5"
  }
 },
 "nbformat": 4,
 "nbformat_minor": 4
}
